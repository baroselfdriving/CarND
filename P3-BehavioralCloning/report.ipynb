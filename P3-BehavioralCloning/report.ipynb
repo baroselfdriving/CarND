{
 "cells": [
  {
   "cell_type": "markdown",
   "metadata": {},
   "source": [
    "# Self Driving Car Engineer Nandodegree\n",
    "## Project 3 - Behavioural Cloning\n",
    "### Vilas Chitrakaran, Feb 2017"
   ]
  },
  {
   "cell_type": "markdown",
   "metadata": {},
   "source": [
    "## Introduction\n",
    "__TODO__"
   ]
  },
  {
   "cell_type": "code",
   "execution_count": 1,
   "metadata": {
    "collapsed": true
   },
   "outputs": [],
   "source": [
    "# Load the input data meta file\n",
    "import os\n",
    "import csv\n",
    "\n",
    "samples = []\n",
    "with open('./sample_data/driving_log.csv') as csvfile:\n",
    "    reader = csv.reader(csvfile)\n",
    "    for line in reader:\n",
    "        samples.append(line)"
   ]
  },
  {
   "cell_type": "code",
   "execution_count": 2,
   "metadata": {
    "collapsed": false
   },
   "outputs": [
    {
     "name": "stdout",
     "output_type": "stream",
     "text": [
      "Number of samples:  8036\n",
      "Data format:  ['center', 'left', 'right', 'steering', 'throttle', 'brake', 'speed']\n",
      "Steering range: ( -0.942695 , 1.0 )\n"
     ]
    },
    {
     "data": {
      "image/png": "[encoded data removed]",
      "text/plain": [
       "<matplotlib.figure.Figure at 0x7f3a5f191860>"
      ]
     },
     "metadata": {},
     "output_type": "display_data"
    }
   ],
   "source": [
    "# Visualise steering distributions\n",
    "# Note: Not sure what units they are in. If it's 'angle', it's most likely to be radians\n",
    "# Note: NVidia paper uses inverse radius 1/r for steering input\n",
    "\n",
    "import numpy as np\n",
    "import matplotlib.pyplot as plt\n",
    "%matplotlib inline\n",
    "\n",
    "# note: first line of the CSV file is the header\n",
    "\n",
    "print('Number of samples: ', len(samples)-1)\n",
    "print('Data format: ', samples[0]) \n",
    "center_image_names = ['./sample_data/IMG/'+x[0].split('/')[-1] for x in samples[1:]]\n",
    "steering = [np.float32(x[3]) for x in samples[1:]]\n",
    "print('Steering range: (', min(steering), ',', max(steering), ')')\n",
    "\n",
    "plt.hist(steering, bins=101)\n",
    "plt.xlabel('steering input')\n",
    "plt.ylabel('count')\n",
    "plt.title('Distribution of steering inputs')\n",
    "plt.show()"
   ]
  },
  {
   "cell_type": "code",
   "execution_count": 3,
   "metadata": {
    "collapsed": true
   },
   "outputs": [],
   "source": [
    "# Preprocess input data\n",
    "# TODO\n",
    "# - remove instances of steer == 0\n",
    "# - increase data by flipping images and angles\n",
    "# - increase data by using left images and damping left steers and enhancing right steers\n",
    "# - increase data by using right images and damping right steers and enhancing left steers"
   ]
  },
  {
   "cell_type": "code",
   "execution_count": 4,
   "metadata": {
    "collapsed": false
   },
   "outputs": [
    {
     "name": "stdout",
     "output_type": "stream",
     "text": [
      "Number of training samples: 6428\n",
      "Number of validation samples: 1608\n"
     ]
    }
   ],
   "source": [
    "# split data into training and validation sets\n",
    "from sklearn.utils import shuffle\n",
    "from sklearn.model_selection import train_test_split\n",
    "shuffle(samples)\n",
    "train_samples, validation_samples = train_test_split(samples[1:], test_size=0.2)\n",
    "print('Number of training samples:', len(train_samples))\n",
    "print('Number of validation samples:', len(validation_samples))"
   ]
  },
  {
   "cell_type": "code",
   "execution_count": 5,
   "metadata": {
    "collapsed": false
   },
   "outputs": [],
   "source": [
    "# Generator function to avoid loading all images and data into memory\n",
    "# TODO: requires modification to use augmented images\n",
    "\n",
    "from scipy import ndimage\n",
    "\n",
    "def generate_batch(samples, batch_size):\n",
    "    num_samples = len(samples)\n",
    "    images = np.zeros((batch_size, 160, 320, 3))\n",
    "    angles = np.zeros(batch_size)\n",
    "    \n",
    "    while 1: \n",
    "        for offset in range(0, num_samples, batch_size):\n",
    "            batch_samples = samples[offset:offset+batch_size]\n",
    "\n",
    "            for batch_sample in batch_samples:\n",
    "                name = './sample_data/IMG/'+batch_sample[0].split('/')[-1]\n",
    "                center_image = ndimage.imread(name)\n",
    "                #center_image = center_image[80:,:,:] # trim image to only see section with road\n",
    "                \n",
    "                #TODO: convert into YUV\n",
    " \n",
    "                center_angle = np.float32(batch_sample[3])\n",
    "                               \n",
    "                images[i] = center_image\n",
    "                angles[i] = center_angle\n",
    "\n",
    "            yield images, angles"
   ]
  },
  {
   "cell_type": "code",
   "execution_count": 7,
   "metadata": {
    "collapsed": false
   },
   "outputs": [],
   "source": [
    "# Test the generator\n",
    "for i in range(2):\n",
    "    image, angle = (next(generate_batch(train_samples, 32)))\n",
    "    #plt.figure()\n",
    "    #plt.imshow(image[i])\n",
    "    #print(angle[i])"
   ]
  },
  {
   "cell_type": "code",
   "execution_count": 10,
   "metadata": {
    "collapsed": false
   },
   "outputs": [
    {
     "name": "stdout",
     "output_type": "stream",
     "text": [
      "____________________________________________________________________________________________________\n",
      "Layer (type)                     Output Shape          Param #     Connected to                     \n",
      "====================================================================================================\n",
      "lambda_2 (Lambda)                (None, 160, 320, 3)   0           lambda_input_2[0][0]             \n",
      "____________________________________________________________________________________________________\n",
      "convolution2d_6 (Convolution2D)  (None, 78, 158, 24)   1824        lambda_2[0][0]                   \n",
      "____________________________________________________________________________________________________\n",
      "convolution2d_7 (Convolution2D)  (None, 37, 77, 36)    21636       convolution2d_6[0][0]            \n",
      "____________________________________________________________________________________________________\n",
      "convolution2d_8 (Convolution2D)  (None, 17, 37, 48)    43248       convolution2d_7[0][0]            \n",
      "____________________________________________________________________________________________________\n",
      "convolution2d_9 (Convolution2D)  (None, 8, 18, 64)     27712       convolution2d_8[0][0]            \n",
      "____________________________________________________________________________________________________\n",
      "convolution2d_10 (Convolution2D) (None, 6, 16, 64)     36928       convolution2d_9[0][0]            \n",
      "____________________________________________________________________________________________________\n",
      "flatten_2 (Flatten)              (None, 6144)          0           convolution2d_10[0][0]           \n",
      "____________________________________________________________________________________________________\n",
      "dense_5 (Dense)                  (None, 100)           614500      flatten_2[0][0]                  \n",
      "____________________________________________________________________________________________________\n",
      "dense_6 (Dense)                  (None, 50)            5050        dense_5[0][0]                    \n",
      "____________________________________________________________________________________________________\n",
      "dense_7 (Dense)                  (None, 10)            510         dense_6[0][0]                    \n",
      "____________________________________________________________________________________________________\n",
      "dense_8 (Dense)                  (None, 1)             11          dense_7[0][0]                    \n",
      "====================================================================================================\n",
      "Total params: 751419\n",
      "____________________________________________________________________________________________________\n"
     ]
    }
   ],
   "source": [
    "# Define network\n",
    "# We implement CNN architecture from the nvidia paper with a couple of modifications \n",
    "# Sequential architecture is organised as follows:\n",
    "\n",
    "# - input image (YUV), 3@80x320\n",
    "# - normalisation, 3@80x320\n",
    "# - convolution (5x5, stride=2), 24@38x158\n",
    "# - convolution (5x5, stride=2), 36@17x77\n",
    "# - convolution (5x5, stride=2), 48@7x37\n",
    "# - convolution (3x3, stride=2), 64@3x18\n",
    "# - convolution (3x3, strive=1), 64@1x16\n",
    "# - flatten (1024)\n",
    "# - fully connected (100) \n",
    "# - fully connected (50)\n",
    "# - fully connected (10)\n",
    "# - fully connected (1)\n",
    "# - Output\n",
    "\n",
    "from keras.models import Sequential\n",
    "from keras.layers.core import Lambda, Dense, Activation, Flatten, Dropout\n",
    "from keras.layers.convolutional import Convolution2D\n",
    "from keras.layers.pooling import MaxPooling2D\n",
    "\n",
    "ch, rows, cols = 3, 160, 320 # Trimmed YUV images\n",
    "\n",
    "# generate the neural network\n",
    "model = Sequential()\n",
    "model.add(Lambda(lambda x: x/127.5 - 1., input_shape=(rows, cols, ch), output_shape=(rows, cols, ch)))\n",
    "model.add(Convolution2D(24, 5, 5, activation=None, subsample=(2,2)))\n",
    "model.add(Convolution2D(36, 5, 5, activation=None, subsample=(2,2)))\n",
    "model.add(Convolution2D(48, 5, 5, activation=None, subsample=(2,2)))\n",
    "model.add(Convolution2D(64, 3, 3, activation=None, subsample=(2,2)))\n",
    "model.add(Convolution2D(64, 3, 3, activation=None, subsample=(1,1)))\n",
    "model.add(Flatten())\n",
    "model.add(Dense(100))\n",
    "model.add(Dense(50))\n",
    "model.add(Dense(10))\n",
    "model.add(Dense(1))\n",
    "\n",
    "# print a summary of the NN\n",
    "model.summary()\n"
   ]
  },
  {
   "cell_type": "code",
   "execution_count": 11,
   "metadata": {
    "collapsed": false
   },
   "outputs": [
    {
     "name": "stdout",
     "output_type": "stream",
     "text": [
      "Epoch 1/3\n",
      "6400/6428 [============================>.] - ETA: 0s - loss: 0.0829"
     ]
    },
    {
     "name": "stderr",
     "output_type": "stream",
     "text": [
      "/home/vchitrakaran/anaconda3/lib/python3.5/site-packages/keras/engine/training.py:1480: UserWarning: Epoch comprised more than `samples_per_epoch` samples, which might affect learning results. Set `samples_per_epoch` correctly to avoid this warning.\n",
      "  warnings.warn('Epoch comprised more than '\n"
     ]
    },
    {
     "name": "stdout",
     "output_type": "stream",
     "text": [
      "6432/6428 [==============================] - 118s - loss: 0.0825 - val_loss: 3.2343e-04\n",
      "Epoch 2/3\n",
      "6432/6428 [==============================] - 117s - loss: 3.8060e-04 - val_loss: 3.9722e-04\n",
      "Epoch 3/3\n",
      "6432/6428 [==============================] - 119s - loss: 3.3748e-04 - val_loss: 3.0586e-04\n"
     ]
    },
    {
     "data": {
      "text/plain": [
       "<keras.callbacks.History at 0x7f3a18042390>"
      ]
     },
     "execution_count": 11,
     "metadata": {},
     "output_type": "execute_result"
    }
   ],
   "source": [
    "# compile and train the model using the generator function\n",
    "EPOCHS = 1\n",
    "BATCH_SIZE = 32\n",
    "\n",
    "train_generator = generate_batch(train_samples, batch_size=BATCH_SIZE)\n",
    "validation_generator = generate_batch(validation_samples, batch_size=BATCH_SIZE)\n",
    "\n",
    "model.compile(loss='mse', optimizer='adam')\n",
    "model.fit_generator(train_generator, samples_per_epoch=len(train_samples), \n",
    "                    validation_data=validation_generator, nb_val_samples=len(validation_samples), \n",
    "                    nb_epoch=EPOCHS)"
   ]
  },
  {
   "cell_type": "code",
   "execution_count": 12,
   "metadata": {
    "collapsed": false
   },
   "outputs": [
    {
     "name": "stdout",
     "output_type": "stream",
     "text": [
      "Saved model to disk\n"
     ]
    }
   ],
   "source": [
    "# Save the model and weights\n",
    "from keras.models import load_model\n",
    "model.save(\"./model.h5\")\n",
    "print(\"Saved model to disk\")"
   ]
  },
  {
   "cell_type": "code",
   "execution_count": null,
   "metadata": {
    "collapsed": true
   },
   "outputs": [],
   "source": []
  }
 ],
 "metadata": {
  "anaconda-cloud": {},
  "kernelspec": {
   "display_name": "Python [default]",
   "language": "python",
   "name": "python3"
  },
  "language_info": {
   "codemirror_mode": {
    "name": "ipython",
    "version": 3
   },
   "file_extension": ".py",
   "mimetype": "text/x-python",
   "name": "python",
   "nbconvert_exporter": "python",
   "pygments_lexer": "ipython3",
   "version": "3.5.2"
  }
 },
 "nbformat": 4,
 "nbformat_minor": 1
}
